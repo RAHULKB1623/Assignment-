{
 "cells": [
  {
   "cell_type": "code",
   "execution_count": 1,
   "id": "6cd60438-36d1-4716-abaf-da780781b8a1",
   "metadata": {},
   "outputs": [],
   "source": [
    "##  Q1.  Explain with an example each when to use a for loop and a while loop."
   ]
  },
  {
   "cell_type": "code",
   "execution_count": 5,
   "id": "e7712d5a-298f-458a-8c99-b1681ad95233",
   "metadata": {},
   "outputs": [],
   "source": [
    "#A for loop in Python is used when you want to execute a block of code for a specific number of times. example or for loop"
   ]
  },
  {
   "cell_type": "code",
   "execution_count": 4,
   "id": "c2d99127-f95f-4053-b8df-da98bf981401",
   "metadata": {},
   "outputs": [],
   "source": [
    "Name = [\"Rahul\", \"kumar\", \"Rishabh\", \"Tinku\"]"
   ]
  },
  {
   "cell_type": "code",
   "execution_count": 6,
   "id": "1b363254-81ef-4cfc-907b-1208cd5ae1a5",
   "metadata": {},
   "outputs": [
    {
     "name": "stdout",
     "output_type": "stream",
     "text": [
      "Rahul\n",
      "kumar\n",
      "Rishabh\n",
      "Tinku\n"
     ]
    }
   ],
   "source": [
    "for Name in Name:\n",
    "    print(Name)"
   ]
  },
  {
   "cell_type": "code",
   "execution_count": 7,
   "id": "8fc0c493-541d-4f18-a42d-4ecb675d499d",
   "metadata": {},
   "outputs": [],
   "source": [
    "#On the other hand, a while loop is used when you want to execute a block of code until a specific condition is met. \n",
    "#This is useful when you don't know how many times you need to execute the loop example of while loop"
   ]
  },
  {
   "cell_type": "code",
   "execution_count": 1,
   "id": "33ce85d3-dc04-454e-9a46-106b807dc5df",
   "metadata": {},
   "outputs": [
    {
     "name": "stdout",
     "output_type": "stream",
     "text": [
      "0\n",
      "1\n",
      "2\n",
      "3\n",
      "4\n",
      "5\n",
      "6\n",
      "7\n",
      "8\n",
      "9\n",
      "10\n"
     ]
    }
   ],
   "source": [
    "i = 0\n",
    "while i <= 10:\n",
    "    print(i)\n",
    "    i += 1"
   ]
  },
  {
   "cell_type": "code",
   "execution_count": 2,
   "id": "485727ae-cb43-4ab6-8597-ad23b9553a7a",
   "metadata": {},
   "outputs": [],
   "source": [
    "## Q2.  Write a python program to print the sum and product of the first 10 natural numbers using for \n",
    "## and while loop"
   ]
  },
  {
   "cell_type": "code",
   "execution_count": 3,
   "id": "eb3ecfde-2e38-49bc-a611-de8a32996aae",
   "metadata": {},
   "outputs": [],
   "source": [
    "## using for loop"
   ]
  },
  {
   "cell_type": "code",
   "execution_count": 9,
   "id": "e302ff14-35a1-4f3a-b000-19ee0f8dffe0",
   "metadata": {},
   "outputs": [
    {
     "name": "stdout",
     "output_type": "stream",
     "text": [
      "sum of the 10 numbers 55\n",
      "product of the number 3628800\n"
     ]
    }
   ],
   "source": [
    "n = 10\n",
    "sum = 0\n",
    "product = 1\n",
    "for i in range(1, n+1):\n",
    "    sum = sum + i\n",
    "    product = product * i\n",
    "print(\"sum of the 10 numbers\", sum)\n",
    "print(\"product of the number\", product)"
   ]
  },
  {
   "cell_type": "code",
   "execution_count": 13,
   "id": "c5cf0464-619f-4b2b-aaee-e47ed775b98d",
   "metadata": {},
   "outputs": [],
   "source": [
    "# using while loop"
   ]
  },
  {
   "cell_type": "code",
   "execution_count": 14,
   "id": "5e008911-d62c-4091-bef2-147985f46574",
   "metadata": {},
   "outputs": [
    {
     "name": "stdout",
     "output_type": "stream",
     "text": [
      "Print the sum: 55\n",
      "Print the product:  3628800\n"
     ]
    }
   ],
   "source": [
    "n = 10\n",
    "sum = 0\n",
    "product = 1\n",
    "\n",
    "i = 1\n",
    "while i<=n:\n",
    "    sum = sum +i\n",
    "    product = product * i\n",
    "    i = i +1\n",
    "    \n",
    "print(\"Print the sum:\",sum)\n",
    "print(\"Print the product: \", product)"
   ]
  },
  {
   "cell_type": "code",
   "execution_count": null,
   "id": "0aca44d1-e6b2-4012-8f57-cbe5ee6eade8",
   "metadata": {},
   "outputs": [],
   "source": [
    "## Q.3> Create a python program to compute the electricity bill for a household. The per-unit charges in rupees are as follows: \n",
    "#For the first 100 units, the user will be\n",
    "#charged Rs. 4.5 per unit, for the next 100 units, the user will be charged Rs. 6 per unit,\n",
    "#and for the next 100 units, the user will be charged Rs. 10 per unit, \n",
    "#After 300 units and above the user will be charged Rs. 20 per unit. \n",
    "#You are required to take the units of electricity consumed in a month from the user as input.\n",
    "#Your program must pass this test case: when the unit of electricity consumed by the user in a month is 310, \n",
    "#the total electricity bill should be 2250."
   ]
  },
  {
   "cell_type": "code",
   "execution_count": 17,
   "id": "71ca71e8-1439-44f2-afb8-b899cbe3f2ce",
   "metadata": {},
   "outputs": [
    {
     "name": "stdin",
     "output_type": "stream",
     "text": [
      "Entet the units consumed: 67\n"
     ]
    },
    {
     "name": "stdout",
     "output_type": "stream",
     "text": [
      "electricity bill: 301.5\n"
     ]
    }
   ],
   "source": [
    "units = int(input(\"Entet the units consumed:\"))\n",
    "if units <= 100:\n",
    "            bill = units * 4.5\n",
    "elif units <= 200:\n",
    "            bill = 100 * 4.5 + (units - 200)  * 6\n",
    "elif units <= 300:\n",
    "            bill = 100 * 4.5 + 100 * 6 + (unit -200) * 10\n",
    "else:\n",
    "             bill = 100 * 4.5 + 100 * 6 + 100 * 10 + (unit -200) * 20\n",
    "            \n",
    "print(\"electricity bill:\", bill)\n",
    "     "
   ]
  },
  {
   "cell_type": "code",
   "execution_count": 1,
   "id": "bfaf1ecd-7328-40a4-a3a7-593908e8df7c",
   "metadata": {},
   "outputs": [],
   "source": [
    "# Q4. Create a list of numbers from 1 to 100. Use for loop and while loop to calculate the cube of each \n",
    "# number and if the cube of that number is divisible by 4 or 5 then append that number in a list and print that list."
   ]
  },
  {
   "cell_type": "code",
   "execution_count": null,
   "id": "0b4f8caf-cf94-4082-98b5-9c1fd02779fb",
   "metadata": {},
   "outputs": [],
   "source": [
    "# using for loop"
   ]
  },
  {
   "cell_type": "code",
   "execution_count": 4,
   "id": "91cde542-8d0e-48ba-8bc8-d5ab33cd98ea",
   "metadata": {},
   "outputs": [
    {
     "name": "stdout",
     "output_type": "stream",
     "text": [
      "[2, 4, 5, 6, 8, 10, 12, 14, 15, 16, 18, 20, 22, 24, 25, 26, 28, 30, 32, 34, 35, 36, 38, 40, 42, 44, 45, 46, 48, 50, 52, 54, 55, 56, 58, 60, 62, 64, 65, 66, 68, 70, 72, 74, 75, 76, 78, 80, 82, 84, 85, 86, 88, 90, 92, 94, 95, 96, 98, 100]\n"
     ]
    }
   ],
   "source": [
    "cubes = []\n",
    "for num in range(1, 101):\n",
    "    cube = num ** 3\n",
    "    if cube % 4 == 0 or cube %5 == 0:\n",
    "        cubes.append(num)\n",
    "print(cubes)"
   ]
  },
  {
   "cell_type": "code",
   "execution_count": null,
   "id": "a90682e3-ca51-4792-aa81-18ca7f805617",
   "metadata": {},
   "outputs": [],
   "source": [
    "# using while loop"
   ]
  },
  {
   "cell_type": "code",
   "execution_count": 5,
   "id": "d9533d6f-f8d3-459f-82d6-ab573e53349c",
   "metadata": {},
   "outputs": [
    {
     "name": "stdout",
     "output_type": "stream",
     "text": [
      "[2, 4, 5, 6, 8, 10, 12, 14, 15, 16, 18, 20, 22, 24, 25, 26, 28, 30, 32, 34, 35, 36, 38, 40, 42, 44, 45, 46, 48, 50, 52, 54, 55, 56, 58, 60, 62, 64, 65, 66, 68, 70, 72, 74, 75, 76, 78, 80, 82, 84, 85, 86, 88, 90, 92, 94, 95, 96, 98, 100]\n"
     ]
    }
   ],
   "source": [
    "cubes = []\n",
    "num = 1\n",
    "while num <= 100:\n",
    "    cube = num ** 3\n",
    "    if cube % 4 == 0 or cube % 5 == 0:\n",
    "        cubes.append(num)\n",
    "    num += 1\n",
    "print(cubes)"
   ]
  },
  {
   "cell_type": "code",
   "execution_count": 2,
   "id": "344630d6-140a-429f-a421-213b2900475d",
   "metadata": {},
   "outputs": [],
   "source": [
    "## Q.5> Write a program to filter count vowels in the below-given string. string = \"I want to become a data scientist\""
   ]
  },
  {
   "cell_type": "code",
   "execution_count": 4,
   "id": "1d107cbf-4131-4044-a4f0-9e3e7f47baf3",
   "metadata": {},
   "outputs": [
    {
     "name": "stdout",
     "output_type": "stream",
     "text": [
      "The numbers of vowels in the given string is: 12\n"
     ]
    }
   ],
   "source": [
    "string = \"I want to become a data scientist\"\n",
    "vowels = \"aeiouAEIOU\"\n",
    "\n",
    "count = 0\n",
    "for char in string:\n",
    "    if char in vowels:\n",
    "        count += 1\n",
    "print(\"The numbers of vowels in the given string is:\", count)"
   ]
  },
  {
   "cell_type": "code",
   "execution_count": null,
   "id": "f81ea2c5-9b3a-47b9-903f-5f0984d43cd8",
   "metadata": {},
   "outputs": [],
   "source": []
  }
 ],
 "metadata": {
  "kernelspec": {
   "display_name": "Python 3 (ipykernel)",
   "language": "python",
   "name": "python3"
  },
  "language_info": {
   "codemirror_mode": {
    "name": "ipython",
    "version": 3
   },
   "file_extension": ".py",
   "mimetype": "text/x-python",
   "name": "python",
   "nbconvert_exporter": "python",
   "pygments_lexer": "ipython3",
   "version": "3.10.8"
  }
 },
 "nbformat": 4,
 "nbformat_minor": 5
}
